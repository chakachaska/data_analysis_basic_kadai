{
  "nbformat": 4,
  "nbformat_minor": 0,
  "metadata": {
    "colab": {
      "provenance": []
    },
    "kernelspec": {
      "name": "python3",
      "display_name": "Python 3"
    },
    "language_info": {
      "name": "python"
    }
  },
  "cells": [
    {
      "cell_type": "code",
      "source": [
        "from sklearn.tree import DecisionTreeClassifier\n",
        "from sklearn.metrics import accuracy_score\n",
        "from sklearn.datasets import load_iris\n",
        "from sklearn.model_selection import train_test_split\n",
        "\n",
        "# データの準備と分割\n",
        "X_train, X_test, y_train, y_test = train_test_split(*load_iris(return_X_y=True), test_size=0.3, random_state=3)\n",
        "\n",
        "# モデルの学習と評価\n",
        "model = DecisionTreeClassifier(random_state=3).fit(X_train, y_train)\n",
        "accuracy = accuracy_score(y_test, model.predict(X_test))\n",
        "\n",
        "print(f\"正解率: {accuracy:.2f}\")\n"
      ],
      "metadata": {
        "colab": {
          "base_uri": "https://localhost:8080/"
        },
        "id": "G0YZQkA8jB_H",
        "outputId": "d54e318f-1bd5-44b1-c3c6-e1a6b4a5dddd"
      },
      "execution_count": null,
      "outputs": [
        {
          "output_type": "stream",
          "name": "stdout",
          "text": [
            "正解率: 0.93\n"
          ]
        }
      ]
    }
  ]
}