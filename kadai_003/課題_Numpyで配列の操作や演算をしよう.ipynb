{
  "nbformat": 4,
  "nbformat_minor": 0,
  "metadata": {
    "colab": {
      "provenance": []
    },
    "kernelspec": {
      "name": "python3",
      "display_name": "Python 3"
    },
    "language_info": {
      "name": "python"
    }
  },
  "cells": [
    {
      "cell_type": "code",
      "source": [
        "import numpy as np\n",
        "\n",
        "# 行列 A と B の定義\n",
        "A = np.array([[0, 1], [2, 3], [4, 5]])  # 3×2行列\n",
        "B = np.array([[0, 1, 2, 3], [4, 5, 6, 7]])  # 2×4行列\n",
        "\n",
        "# 行列積を計算し、結果を result に保存\n",
        "result = np.dot(A, B)\n",
        "\n",
        "# 行列積の結果を表示\n",
        "print(\"行列積の結果:\")\n",
        "print(result)\n",
        "\n",
        "# 行列積の最大値を取得\n",
        "max_value = result.max()\n",
        "print(\"行列積の結果の最大値:\", max_value)\n"
      ],
      "metadata": {
        "colab": {
          "base_uri": "https://localhost:8080/"
        },
        "id": "zOLWrhlXJecI",
        "outputId": "667354ec-5404-4053-e2aa-26f2edf4b6e7"
      },
      "execution_count": 25,
      "outputs": [
        {
          "output_type": "stream",
          "name": "stdout",
          "text": [
            "行列積の結果:\n",
            "[[ 4  5  6  7]\n",
            " [12 17 22 27]\n",
            " [20 29 38 47]]\n",
            "行列積の結果の最大値: 47\n"
          ]
        }
      ]
    }
  ]
}